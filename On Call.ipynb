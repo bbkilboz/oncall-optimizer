{
 "cells": [
  {
   "cell_type": "markdown",
   "id": "6bfe5cb5",
   "metadata": {},
   "source": [
    "# On Call List Planner and Optimizer\n",
    "An applet to organise and optimize your clinic's chaotic on-call list every month, using pandas DataFrames. "
   ]
  },
  {
   "cell_type": "code",
   "execution_count": null,
   "id": "6ae295b0",
   "metadata": {
    "scrolled": true
   },
   "outputs": [],
   "source": [
    "import pandas as pd\n",
    "import numpy as np\n",
    "import random\n",
    "import os\n",
    "\n",
    "# To see all of the dataframes when printed\n",
    "pd.set_option('display.max_columns', None)\n",
    "pd.set_option('display.max_rows', None)"
   ]
  },
  {
   "cell_type": "markdown",
   "id": "c232d0d2",
   "metadata": {},
   "source": [
    "### Dictionary for specific values for specific days. \n",
    "For example, 2nd of December 2022 is friday, and the next day is free. Which means in state hospitals in Turkey, the person who is on call will be paid for their 15 hours of work. For normal weekdays it's 7"
   ]
  },
  {
   "cell_type": "code",
   "execution_count": null,
   "id": "eafc4d46",
   "metadata": {},
   "outputs": [],
   "source": [
    "# Dictionary for specific values for specific days. \n",
    "def day_value(argument):\n",
    "    switcher = {\n",
    "      2: 15,\n",
    "      3: 24,\n",
    "      4: 16,\n",
    "      9: 15,\n",
    "      10: 24,\n",
    "      11: 16,\n",
    "      16: 15,\n",
    "      17: 24,\n",
    "      18: 16,\n",
    "      23: 15,\n",
    "      24: 24,\n",
    "      25: 16,\n",
    "      30: 15,\n",
    "      31: 24\n",
    "    }\n",
    "    return switcher.get(argument, 7)"
   ]
  },
  {
   "cell_type": "markdown",
   "id": "339b9a4a",
   "metadata": {},
   "source": [
    "### Importing the preliminary csv\n",
    "csv should contain name and number of days as the first row.\n",
    "Days with permission will be ignored if 0.1 written on that day's cell. "
   ]
  },
  {
   "cell_type": "code",
   "execution_count": null,
   "id": "2ff207af",
   "metadata": {},
   "outputs": [],
   "source": [
    "df_core = pd.read_csv('dec.csv', encoding='utf8', index_col=0, header=0).T\n",
    "df_core.fillna(0, inplace = True)\n",
    "print(\"CSV Import:\\n\",df_core.T,\"\\n\")"
   ]
  },
  {
   "cell_type": "markdown",
   "id": "67df7f58",
   "metadata": {},
   "source": [
    "### Main algorithm"
   ]
  },
  {
   "cell_type": "code",
   "execution_count": null,
   "id": "a36d7648",
   "metadata": {
    "scrolled": true
   },
   "outputs": [],
   "source": [
    "df_score = pd.DataFrame({\"seed\":[],\"score\":[],\"range\":[]})\n",
    "\n",
    "def run(df_core, rand, verbatim = 0):\n",
    "\n",
    "\n",
    "  df = df_core.sample(frac=1,axis=1,random_state=rand)\n",
    "  \n",
    "  for col in range(len(df.columns)):\n",
    "    for row in range(len(df)):\n",
    "      count_row = df.iloc[row,:][df.iloc[row,:] > 1].count()\n",
    "      if df.iloc[row, col] == 0:\n",
    "        count_col = df.iloc[:, col][df.iloc[:, col] > 1].count()\n",
    "        try:\n",
    "          if df.iloc[row-1, col] == 0 and df.iloc[row-2, col] == 0 and count_col < 8 and count_row <3:\n",
    "            if row <29:\n",
    "                if df.iloc[row+1, col] == 0 and df.iloc[row+2, col] == 0:\n",
    "                  df.iloc[row, col] = day_value(row+1)\n",
    "            else:\n",
    "              df.iloc[row, col] = day_value(row+1)\n",
    "        except IndexError:\n",
    "          continue\n",
    "      #print (count_row)\n",
    "    sum_saat = df.iloc[:, col].sum()\n",
    "  #  print (df.columns[col], count_col, sum_saat)\n",
    "  \n",
    "  for col in range(len(df.columns)):\n",
    "    for row in range(len(df)):\n",
    "      count_row = df.iloc[row,:][df.iloc[row,:] > 1].count()\n",
    "      if df.iloc[row, col] == 0:\n",
    "        count_col = df.iloc[:, col][df.iloc[:, col] > 1].count()\n",
    "        try:\n",
    "          if df.iloc[row-1, col] < 1 and df.iloc[row-2, col] < 1 and count_col < 8:\n",
    "            if row <29:\n",
    "                if df.iloc[row+1, col] < 1 and df.iloc[row+2, col] < 1:\n",
    "                  df.iloc[row, col] = day_value(row+1)\n",
    "            else:\n",
    "              df.iloc[row, col] = day_value(row+1)\n",
    "        except IndexError:\n",
    "          continue\n",
    "      #print (count_row)\n",
    "    sum_saat = df.iloc[:, col].sum()\n",
    "  #  print (df.columns[col], count_col, sum_saat)  \n",
    "  \n",
    " \n",
    "  #range_saat = np.ptp(df.sum())\n",
    "  dfT = df.T\n",
    "  range_saat = np.ptp(dfT[dfT.T.count()>7].T.sum())\n",
    "  score =  df.to_numpy().sum()\n",
    "  doksanbesalti = dfT[dfT.T.count()>7].T.sum()<95\n",
    "\n",
    "  nob_say = dfT.iloc[:,][dfT.iloc[:,]>1].count()\n",
    "  ikialtinobet = nob_say[nob_say<2].sum()\n",
    "\n",
    "    \n",
    "  df_exit = pd.DataFrame({\"seed\":[rand],\"score\":[score],\"range\":[range_saat], \"undertwocalls\":[ikialtinobet]})\n",
    "    \n",
    "  print (\"Seed:\",rand, \"Score:\", score, \"Range\", range_saat, \"undertwocalls\", ikialtinobet)\n",
    "  \n",
    "    \n",
    "  if verbatim == 1:\n",
    "    print(\"\\nDays per person:\\n\", df.iloc[:,][df.iloc[:,]>1].count())\n",
    "    print(\"\\nPeople per day:\\n\", nob_say)\n",
    "    print (\"\\nHour count:\\n\",df.sum())\n",
    "    print(\"\\nList:\\n\",dfT)\n",
    "    print(\"--------------------------------\")\n",
    "    \n",
    "  \n",
    "  return df, df_exit\n",
    "    "
   ]
  },
  {
   "cell_type": "markdown",
   "id": "462c07da",
   "metadata": {},
   "source": [
    "### Score and list"
   ]
  },
  {
   "cell_type": "code",
   "execution_count": null,
   "id": "9f1edb58",
   "metadata": {},
   "outputs": [],
   "source": [
    "pd.set_option('display.max_rows', None)\n",
    "print(\"\\nTotal hours of clinic:\\n\",df_score[df_score['undertwocalls']<1].sort_values(by='score', ascending=False))"
   ]
  },
  {
   "cell_type": "markdown",
   "id": "5f3b4434",
   "metadata": {},
   "source": [
    "### Select a small range to look closer"
   ]
  },
  {
   "cell_type": "code",
   "execution_count": null,
   "id": "a2cff1fb",
   "metadata": {},
   "outputs": [],
   "source": [
    "range_of_seeds = {1,2,3,4} # MODIFY THIS"
   ]
  },
  {
   "cell_type": "code",
   "execution_count": null,
   "id": "468db355",
   "metadata": {},
   "outputs": [],
   "source": [
    "for rand in range_of_seeds:\n",
    "    df, df_exit = run(df_core,rand,1)\n",
    "    df_score = pd.concat([df_score, df_exit], ignore_index = True)\n",
    "    df_score.reset_index()"
   ]
  },
  {
   "cell_type": "markdown",
   "id": "6ddb59a0",
   "metadata": {},
   "source": [
    "### Select a final dataframe"
   ]
  },
  {
   "cell_type": "code",
   "execution_count": null,
   "id": "6e78a8b0",
   "metadata": {},
   "outputs": [],
   "source": [
    "final_seed = 1 # MODIFY THIS"
   ]
  },
  {
   "cell_type": "code",
   "execution_count": null,
   "id": "0c6edb6c",
   "metadata": {},
   "outputs": [],
   "source": [
    "df, df_exit = run(df_core,final_seed,1)\n",
    "df_score = pd.concat([df_score, df_exit], ignore_index = True)\n",
    "df_score.reset_index()"
   ]
  },
  {
   "cell_type": "markdown",
   "id": "7243cbec",
   "metadata": {},
   "source": [
    "### Output as CSV"
   ]
  },
  {
   "cell_type": "code",
   "execution_count": null,
   "id": "a850b4f6",
   "metadata": {},
   "outputs": [],
   "source": [
    "dfT=df.T\n",
    "dfT.replace(0.1,np.nan,inplace=True)\n",
    "dfT.replace(0,np.nan,inplace=True)\n",
    "dfT.to_csv('out.csv', encoding='utf-8')"
   ]
  }
 ],
 "metadata": {
  "kernelspec": {
   "display_name": "Python 3 (ipykernel)",
   "language": "python",
   "name": "python3"
  },
  "language_info": {
   "codemirror_mode": {
    "name": "ipython",
    "version": 3
   },
   "file_extension": ".py",
   "mimetype": "text/x-python",
   "name": "python",
   "nbconvert_exporter": "python",
   "pygments_lexer": "ipython3",
   "version": "3.11.5"
  }
 },
 "nbformat": 4,
 "nbformat_minor": 5
}
